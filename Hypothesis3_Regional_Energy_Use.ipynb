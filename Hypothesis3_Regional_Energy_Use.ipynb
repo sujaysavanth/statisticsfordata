{
 "cells": [
  {
   "cell_type": "markdown",
   "id": "0ad74f5f",
   "metadata": {},
   "source": [
    "## Hypothesis 3: Does Energy Consumption Differ by Region?\n",
    "This notebook analyzes whether average energy consumption per city differs significantly across U.S. states.\n",
    "We will use ANOVA to test for statistically significant differences."
   ]
  },
  {
   "cell_type": "code",
   "execution_count": null,
   "id": "a19f3983",
   "metadata": {},
   "outputs": [],
   "source": [
    "!pip install pyxlsb\n",
    "\n",
    "import pandas as pd\n",
    "import numpy as np\n",
    "import matplotlib.pyplot as plt\n",
    "import seaborn as sns\n",
    "from scipy.stats import f_oneway\n",
    "\n",
    "# Load the dataset\n",
    "file_path = \"/content/2016cityandcountyenergyprofiles (1).xlsb\"\n",
    "city_data = pd.read_excel(file_path, engine='pyxlsb', sheet_name='City', skiprows=1)\n",
    "city_data.columns = city_data.iloc[2]\n",
    "city_data = city_data.drop([0, 1, 2]).reset_index(drop=True)\n",
    "\n",
    "# Extract the first occurrence of relevant consumption columns\n",
    "mwh_index = list(city_data.columns).index('consumption (MWh)')\n",
    "tcf_index = list(city_data.columns).index('consumption (TcF)')\n",
    "\n",
    "city_df = pd.DataFrame()\n",
    "city_df['state'] = city_data['state_abbr']\n",
    "city_df['city_name'] = city_data['city_name']\n",
    "city_df['electricity_MWh'] = pd.to_numeric(city_data.iloc[:, mwh_index], errors='coerce')\n",
    "city_df['natural_gas_TcF'] = pd.to_numeric(city_data.iloc[:, tcf_index], errors='coerce')\n",
    "\n",
    "# Compute total energy in MWh\n",
    "city_df['total_energy_MWh'] = city_df['electricity_MWh'] + city_df['natural_gas_TcF'] * 293071\n",
    "city_df.dropna(subset=['state', 'total_energy_MWh'], inplace=True)\n"
   ]
  },
  {
   "cell_type": "code",
   "execution_count": null,
   "id": "a2ae6d87",
   "metadata": {},
   "outputs": [],
   "source": [
    "# Group by state and plot average energy per city\n",
    "state_avg_energy = city_df.groupby('state')['total_energy_MWh'].mean().sort_values(ascending=False)\n",
    "print(state_avg_energy.head())\n",
    "\n",
    "# Boxplot to visualize variation across states\n",
    "plt.figure(figsize=(14, 6))\n",
    "sns.boxplot(data=city_df, x='state', y='total_energy_MWh')\n",
    "plt.xticks(rotation=90)\n",
    "plt.title('City-Level Total Energy Consumption by State')\n",
    "plt.tight_layout()\n",
    "plt.show()\n"
   ]
  },
  {
   "cell_type": "code",
   "execution_count": null,
   "id": "353afa88",
   "metadata": {},
   "outputs": [],
   "source": [
    "# Prepare data for ANOVA\n",
    "grouped_data = [group['total_energy_MWh'].values for name, group in city_df.groupby('state') if len(group) > 1]\n",
    "\n",
    "# Run one-way ANOVA\n",
    "anova_stat, anova_pval = f_oneway(*grouped_data)\n",
    "print(f\"ANOVA F-statistic: {anova_stat:.4f}, p-value: {anova_pval:.4f}\")\n",
    "if anova_pval < 0.05:\n",
    "    print(\"✅ There is a statistically significant difference in energy use between states.\")\n",
    "else:\n",
    "    print(\"⚠️ No statistically significant difference found between states.\")\n"
   ]
  }
 ],
 "metadata": {},
 "nbformat": 4,
 "nbformat_minor": 5
}
